{
 "cells": [
  {
   "cell_type": "markdown",
   "id": "265678b0-4713-4312-ae2e-67baeb2352fc",
   "metadata": {},
   "source": [
    "---\n",
    "# KARM\n",
    "\n",
    "Un problème d' __optimisation__\n",
    "\n",
    "Fabrice Mulotti<br>\n",
    "Licence MIT<br>\n",
    "Révision 4<br>"
   ]
  },
  {
   "cell_type": "markdown",
   "id": "24253f2d-6c4c-471b-9339-7d374a0a5823",
   "metadata": {},
   "source": [
    "# Introduction"
   ]
  },
  {
   "cell_type": "code",
   "execution_count": 225,
   "id": "54bdbf6c-2660-4ce5-af13-fc8936c69755",
   "metadata": {
    "tags": []
   },
   "outputs": [],
   "source": [
    "import numpy as np\n",
    "import pandas as pd\n",
    "import matplotlib.pyplot as plt\n",
    "import seaborn as sbn\n",
    "from os import path\n",
    "import sys\n"
   ]
  },
  {
   "cell_type": "markdown",
   "id": "df0e12e3",
   "metadata": {},
   "source": [
    "## Définissons les paramètres de notre environnement"
   ]
  },
  {
   "cell_type": "code",
   "execution_count": 226,
   "id": "3dbd9591-f250-4422-a2b2-22ad423ad587",
   "metadata": {
    "tags": []
   },
   "outputs": [],
   "source": [
    "K=5 # nombre de bras\n",
    "recompense_centre=5 # récompense moyenne\n",
    "dispersion_recompense=4 # écart par rapport à la moyenne\n",
    "dispersion_resultat_par_bras=2.0 # facteur pour l`écart type appliqué à chaque bras lors des tirages\n"
   ]
  },
  {
   "cell_type": "markdown",
   "id": "6f9fd248",
   "metadata": {},
   "source": [
    "## Déterminer pour chaque bras sa récompense moyenne et l'écart type"
   ]
  },
  {
   "cell_type": "code",
   "execution_count": 227,
   "id": "d4a84cc3-4b4c-4c73-82f4-f09441417112",
   "metadata": {
    "tags": []
   },
   "outputs": [],
   "source": [
    "np.random.seed(seed=42)\n",
    "recompense_moyenne_bras = np.random.random(K)*dispersion_recompense+5\n",
    "ecart_type_bras = (np.random.random(K)+0.5)*dispersion_resultat_par_bras"
   ]
  },
  {
   "cell_type": "code",
   "execution_count": 4,
   "id": "9916edd4-b84f-4f75-aebe-962ece220f3b",
   "metadata": {
    "tags": []
   },
   "outputs": [
    {
     "data": {
      "text/plain": [
       "array([6.49816048, 8.80285723, 7.92797577, 7.39463394, 5.62407456])"
      ]
     },
     "execution_count": 4,
     "metadata": {},
     "output_type": "execute_result"
    }
   ],
   "source": [
    "recompense_moyenne_bras"
   ]
  },
  {
   "cell_type": "code",
   "execution_count": 7,
   "id": "c3e60731-3131-466f-8671-c585e51b53ac",
   "metadata": {
    "tags": []
   },
   "outputs": [
    {
     "name": "stdout",
     "output_type": "stream",
     "text": [
      "Ordre des bras décroissant [1 2 3 0 4]\n"
     ]
    }
   ],
   "source": [
    "reference = np.flip(np.argsort(recompense_moyenne_bras))\n",
    "print(f\"Ordre des bras décroissant {reference}\")"
   ]
  },
  {
   "cell_type": "code",
   "execution_count": 6,
   "id": "f5a6d174-3f2f-40dc-acae-bc8f9b4bb5fc",
   "metadata": {
    "scrolled": true,
    "tags": []
   },
   "outputs": [
    {
     "data": {
      "text/plain": [
       "array([1.31198904, 1.11616722, 2.73235229, 2.20223002, 2.41614516])"
      ]
     },
     "execution_count": 6,
     "metadata": {},
     "output_type": "execute_result"
    }
   ],
   "source": [
    "ecart_type_bras"
   ]
  },
  {
   "cell_type": "markdown",
   "id": "b64e9070-5c3a-4e5b-8fdc-b511c2b6c376",
   "metadata": {},
   "source": [
    "## Visualisons sur 10000 tirages à  quoi ressemble les résultats"
   ]
  },
  {
   "cell_type": "code",
   "execution_count": 70,
   "id": "e87328cf-203d-4142-a540-3e44d8923c25",
   "metadata": {
    "tags": []
   },
   "outputs": [],
   "source": [
    "np.random.seed(2023)\n",
    "tirage=10000\n",
    "sample = np.zeros((tirage,K))\n",
    "for i in range(K):\n",
    "    for j in range(tirage):\n",
    "        sample[j,i]=np.random.normal(recompense_moyenne_bras[i],ecart_type_bras[i])"
   ]
  },
  {
   "cell_type": "code",
   "execution_count": 71,
   "id": "9d80bc88-afa3-4294-b20f-5e5236b8429e",
   "metadata": {
    "tags": []
   },
   "outputs": [],
   "source": [
    "plt.figure()\n",
    "sbn.boxplot(sample)\n",
    "plt.xlabel(\"Bras\")\n",
    "plt.ylabel(\"Récompense\")\n",
    "plt.show()"
   ]
  },
  {
   "cell_type": "markdown",
   "id": "c09019a0-fb7b-4b31-8b63-c41724f75fd2",
   "metadata": {},
   "source": [
    "![boxplots.jpg](static/boxplots.jpg)"
   ]
  },
  {
   "cell_type": "code",
   "execution_count": null,
   "id": "7e97747d-7f27-4c96-be59-1d170e74072d",
   "metadata": {},
   "outputs": [],
   "source": []
  },
  {
   "cell_type": "markdown",
   "id": "f0ebcc1d-d8c4-49af-abc2-b093622f7bf7",
   "metadata": {
    "tags": []
   },
   "source": [
    "***\n",
    "## Functions et classes"
   ]
  },
  {
   "cell_type": "markdown",
   "id": "b628fb0c-b857-4590-88d3-51a19d574ae1",
   "metadata": {
    "tags": []
   },
   "source": [
    "### Pour être capable comparer nos résultats, nous allons utiliser un Dataframe pandas"
   ]
  },
  {
   "cell_type": "code",
   "execution_count": 187,
   "id": "0fbc6e27-c11b-4d2e-9999-d9f2adda5110",
   "metadata": {
    "tags": []
   },
   "outputs": [],
   "source": [
    "def tirage(bras):\n",
    "    # tirage pour un bras\n",
    "    # entrée : numéro du bras\n",
    "    # sortie : récompense pour un tirage\n",
    "    return np.random.normal(recompense_moyenne_bras[bras],ecart_type_bras[bras])"
   ]
  },
  {
   "cell_type": "markdown",
   "id": "ec733d77-e776-43e8-b1d1-b4ae38544b33",
   "metadata": {},
   "source": [
    "# Fin introduction"
   ]
  },
  {
   "cell_type": "markdown",
   "id": "15ca0f79-52fb-4057-b42b-855379273aba",
   "metadata": {},
   "source": [
    "---\n",
    "## Round Robin\n",
    "\n",
    "Dans une approche Round Robin, on tire un même nombre de fois chaque bras.\n",
    "C'est donc une approche 'brute'."
   ]
  },
  {
   "cell_type": "code",
   "execution_count": 107,
   "id": "be722067-21f7-40a8-928f-84bb3d081b98",
   "metadata": {},
   "outputs": [],
   "source": [
    "# Ecrire une fonction qui renvoie les numéros de bras alternativement\n",
    "# exemple 0 -> 1 -> 2 -> 3 -> 4 -> 0 ......\n",
    "# c'est ici une politique, brute mais une politique néanmoins :)\n",
    "\n",
    "def RoundRobinPolicy(action_passee,K):\n",
    "    # Round robin policy : tire un bras l'un après l'autre\n",
    "    # input : action= derniere action jouée, K nombre de bras\n",
    "    # output : nouvelle action proposée\n",
    "\n",
    "    # VOTRE CODE - 1 ligne\n",
    "    \n",
    "    return action_futur\n"
   ]
  },
  {
   "cell_type": "code",
   "execution_count": null,
   "id": "fa15daf8-eacc-4bb7-a91f-1e7bddd751ba",
   "metadata": {},
   "outputs": [],
   "source": [
    "assert RoundRobinPolicy(1,2) == 0"
   ]
  },
  {
   "cell_type": "markdown",
   "id": "57c83c48-b096-4ce1-b907-c52eb5dbef09",
   "metadata": {},
   "source": [
    "# Vous allez compléter la boucle permettant de simuler l'entrainement."
   ]
  },
  {
   "cell_type": "code",
   "execution_count": 228,
   "id": "1199c0fe-5de8-4a27-bf44-91b9a23b853a",
   "metadata": {
    "tags": []
   },
   "outputs": [
    {
     "name": "stdout",
     "output_type": "stream",
     "text": [
      "\u001b[0;36m  File \u001b[0;32m\"/tmp/xpython_10008/177234395.py\"\u001b[0;36m, line \u001b[0;32m14\u001b[0m\n",
      "\u001b[0;31m    action = # ?\u001b[0m\n",
      "\u001b[0m             ^\u001b[0m\n",
      "\u001b[0;31mSyntaxError\u001b[0m\u001b[0;31m:\u001b[0m invalid syntax\n",
      "\n"
     ]
    }
   ],
   "source": [
    "np.random.seed(2023)\n",
    "nombre_tirage=100\n",
    "\n",
    "# Nous allons stocker les résultats pour chaque bras\n",
    "Q = np.zeros((K)) # permet de stocket le cumul des récompenses\n",
    "N = np.zeros((K)) # permet de stocker le nombre de fois qu'un bras est tiré\n",
    "\n",
    "# conserver cet appel pour la suite pour comparer les résultats\n",
    "# nombre de bras , valeur initial de la moyenne des récompenses, nom de la politique\n",
    "result = []\n",
    "action = K-1 # a changer en fonction de votre implémentation. Ma politique renvoie l'action suivante, donc RoundRobinPolicy(K-1,K) va renvoyer l'action 0\n",
    "\n",
    "for i in range(nombre_tirage):\n",
    "    action = # ?\n",
    "    reward = # ? \n",
    "    result.append( ? )\n",
    "    Q[ action ] += #? \n",
    "    N[ action ] += #? "
   ]
  },
  {
   "cell_type": "code",
   "execution_count": null,
   "id": "31ece0d1",
   "metadata": {},
   "outputs": [],
   "source": [
    "result_round_robin =#? Cumul des récompenses "
   ]
  },
  {
   "cell_type": "code",
   "execution_count": null,
   "id": "8e182fab-9c4a-49b8-9c25-69ffe96fbf5d",
   "metadata": {},
   "outputs": [],
   "source": [
    "# calculer la récompense moyenne par bras et comparer avec les vrais valeurs paramétrées"
   ]
  },
  {
   "cell_type": "code",
   "execution_count": null,
   "id": "9e45d44f",
   "metadata": {},
   "outputs": [],
   "source": [
    "plt.figure()\n",
    "plt.plot(result_round_robin)\n",
    "plt.show()"
   ]
  },
  {
   "cell_type": "code",
   "execution_count": null,
   "id": "fe5998ad-3424-4408-a26f-6cb1b5a312d6",
   "metadata": {},
   "outputs": [],
   "source": []
  },
  {
   "cell_type": "markdown",
   "id": "98f68359-b41c-40fd-9672-caeb9f464761",
   "metadata": {},
   "source": [
    "---\n",
    "# Greedy - valeur initiale élévée<br>\n",
    "Avec une politique Greedy, notre algorithme choisi toujours le bras qui offre le meilleur rendement.\n",
    "\n",
    "Donc si on a pas évalué au préalable les bras, et dans un environnement stable, il n'y a pas d'intérêt.\n"
   ]
  },
  {
   "cell_type": "code",
   "execution_count": 36,
   "id": "46cd159f",
   "metadata": {},
   "outputs": [],
   "source": [
    "import numpy as np"
   ]
  },
  {
   "cell_type": "code",
   "execution_count": 229,
   "id": "bce99d96-aeb3-4d83-a40d-076176c65c87",
   "metadata": {},
   "outputs": [],
   "source": [
    "def greedyPolicy(num_action, mean_reward_per_arm):\n",
    "    # purpose : choisi le bras qui rapporte le plus\n",
    "    # input : nombre de bras, moyenne de résultat connu par bras.\n",
    "    # output : bras choisi\n",
    "\n",
    "    ## votre code\n",
    "    #action = mean_reward_per_arm.index(max(mean_reward_per_arm))\n",
    "    action = np.argmax(mean_reward_per_arm)\n",
    "    return action"
   ]
  },
  {
   "cell_type": "code",
   "execution_count": 13,
   "id": "9aebc41b",
   "metadata": {},
   "outputs": [
    {
     "data": {
      "text/plain": [
       "4"
      ]
     },
     "execution_count": 13,
     "metadata": {},
     "output_type": "execute_result"
    }
   ],
   "source": [
    "greedyPolicy(5, np.array([0,1,1,0,2]))"
   ]
  },
  {
   "cell_type": "code",
   "execution_count": 230,
   "id": "92667106-0087-4067-a1ab-bc6e6cf982f1",
   "metadata": {},
   "outputs": [
    {
     "name": "stderr",
     "output_type": "stream",
     "text": [
      "/tmp/xpython_10008/3731277505.py:18: RuntimeWarning: divide by zero encountered in true_divide\n",
      "  print(f\"bras={action}, recompense(int{reward}), moyenne={np.round(Q/N+1)}\")\n"
     ]
    },
    {
     "name": "stdout",
     "output_type": "stream",
     "text": [
      "bras=0, recompense(int7.431868347630945), moyenne=[18. inf inf inf inf]\n",
      "bras=1, recompense(int8.440677752859905), moyenne=[18. 19. inf inf inf]\n",
      "bras=2, recompense(int5.190512231866764), moyenne=[18. 19. 16. inf inf]\n",
      "bras=3, recompense(int7.914912528474073), moyenne=[18. 19. 16. 18. inf]\n",
      "bras=4, recompense(int5.377241556129524), moyenne=[18. 19. 16. 18. 16.]\n",
      "bras=1, recompense(int7.528983803750662), moyenne=[18. 14. 16. 18. 16.]\n",
      "bras=0, recompense(int9.980713711235706), moyenne=[14. 14. 16. 18. 16.]\n",
      "bras=0, recompense(int8.388218701228725), moyenne=[12. 14. 16. 18. 16.]\n",
      "bras=0, recompense(int6.6279191702170515), moyenne=[11. 14. 16. 18. 16.]\n",
      "bras=3, recompense(int0.5203021099170826), moyenne=[11. 14. 16. 10. 16.]\n",
      "bras=1, recompense(int7.601279048756534), moyenne=[11. 12. 16. 10. 16.]\n",
      "bras=0, recompense(int6.070869316140063), moyenne=[10. 12. 16. 10. 16.]\n",
      "bras=1, recompense(int7.647068436134308), moyenne=[10. 11. 16. 10. 16.]\n",
      "bras=1, recompense(int8.327012391522507), moyenne=[10. 10. 16. 10. 16.]\n",
      "bras=1, recompense(int7.653917774159973), moyenne=[10. 10. 16. 10. 16.]\n",
      "bras=1, recompense(int8.220469960290366), moyenne=[10. 10. 16. 10. 16.]\n",
      "bras=1, recompense(int8.330989084800143), moyenne=[10. 10. 16. 10. 16.]\n",
      "bras=1, recompense(int8.692084130688553), moyenne=[10. 10. 16. 10. 16.]\n",
      "bras=1, recompense(int7.262258470023123), moyenne=[10. 10. 16. 10. 16.]\n",
      "bras=1, recompense(int9.139831253877043), moyenne=[10. 10. 16. 10. 16.]\n",
      "bras=1, recompense(int7.649187538431332), moyenne=[10.  9. 16. 10. 16.]\n",
      "bras=1, recompense(int7.1261759092184285), moyenne=[10.  9. 16. 10. 16.]\n",
      "bras=1, recompense(int7.263000289865576), moyenne=[10.  9. 16. 10. 16.]\n",
      "bras=0, recompense(int6.229917995841609), moyenne=[10.  9. 16. 10. 16.]\n",
      "bras=1, recompense(int9.519576042505914), moyenne=[10.  9. 16. 10. 16.]\n",
      "bras=1, recompense(int8.60063503620621), moyenne=[10.  9. 16. 10. 16.]\n",
      "bras=1, recompense(int9.664258346008353), moyenne=[10.  9. 16. 10. 16.]\n",
      "bras=1, recompense(int9.630521434047608), moyenne=[10.  9. 16. 10. 16.]\n",
      "bras=1, recompense(int10.281513969166479), moyenne=[10.  9. 16. 10. 16.]\n",
      "bras=1, recompense(int9.29317465466564), moyenne=[10.  9. 16. 10. 16.]\n",
      "bras=1, recompense(int8.180177113074683), moyenne=[10.  9. 16. 10. 16.]\n",
      "bras=1, recompense(int9.837633062963219), moyenne=[10.  9. 16. 10. 16.]\n",
      "bras=1, recompense(int8.132345892811578), moyenne=[10.  9. 16. 10. 16.]\n",
      "bras=1, recompense(int7.106563835338585), moyenne=[10.  9. 16. 10. 16.]\n",
      "bras=1, recompense(int11.143827324190237), moyenne=[10.  9. 16. 10. 16.]\n",
      "bras=1, recompense(int9.799105627747199), moyenne=[10. 10. 16. 10. 16.]\n",
      "bras=1, recompense(int10.584804468666107), moyenne=[10. 10. 16. 10. 16.]\n",
      "bras=1, recompense(int8.089891950698174), moyenne=[10. 10. 16. 10. 16.]\n",
      "bras=1, recompense(int7.538187023936757), moyenne=[10.  9. 16. 10. 16.]\n",
      "bras=1, recompense(int9.53572921539261), moyenne=[10. 10. 16. 10. 16.]\n",
      "bras=1, recompense(int9.46785485923262), moyenne=[10. 10. 16. 10. 16.]\n",
      "bras=1, recompense(int7.897512061828173), moyenne=[10.  9. 16. 10. 16.]\n",
      "bras=1, recompense(int8.467410275899807), moyenne=[10.  9. 16. 10. 16.]\n",
      "bras=1, recompense(int9.928390434027953), moyenne=[10.  9. 16. 10. 16.]\n",
      "bras=1, recompense(int7.588732544305364), moyenne=[10.  9. 16. 10. 16.]\n",
      "bras=1, recompense(int6.808177695262474), moyenne=[10.  9. 16. 10. 16.]\n",
      "bras=1, recompense(int9.183044752639244), moyenne=[10.  9. 16. 10. 16.]\n",
      "bras=1, recompense(int7.4037401004503565), moyenne=[10.  9. 16. 10. 16.]\n",
      "bras=1, recompense(int9.216718577381673), moyenne=[10.  9. 16. 10. 16.]\n",
      "bras=1, recompense(int9.31099655129219), moyenne=[10.  9. 16. 10. 16.]\n",
      "bras=1, recompense(int6.253843681694885), moyenne=[10.  9. 16. 10. 16.]\n",
      "bras=1, recompense(int8.80193973270442), moyenne=[10.  9. 16. 10. 16.]\n",
      "bras=1, recompense(int11.480403973265059), moyenne=[10.  9. 16. 10. 16.]\n",
      "bras=1, recompense(int5.919680243736292), moyenne=[10.  9. 16. 10. 16.]\n",
      "bras=1, recompense(int10.266162327893692), moyenne=[10.  9. 16. 10. 16.]\n",
      "bras=1, recompense(int7.039896199718798), moyenne=[10.  9. 16. 10. 16.]\n",
      "bras=1, recompense(int7.864514848736011), moyenne=[10.  9. 16. 10. 16.]\n",
      "bras=1, recompense(int8.618121059350534), moyenne=[10.  9. 16. 10. 16.]\n",
      "bras=1, recompense(int6.494165354737007), moyenne=[10.  9. 16. 10. 16.]\n",
      "bras=1, recompense(int9.308189370465138), moyenne=[10.  9. 16. 10. 16.]\n",
      "bras=1, recompense(int8.859928670406013), moyenne=[10.  9. 16. 10. 16.]\n",
      "bras=1, recompense(int8.537141621799288), moyenne=[10.  9. 16. 10. 16.]\n",
      "bras=1, recompense(int8.570684417381258), moyenne=[10.  9. 16. 10. 16.]\n",
      "bras=1, recompense(int9.250779720390263), moyenne=[10.  9. 16. 10. 16.]\n",
      "bras=1, recompense(int9.007304530084175), moyenne=[10.  9. 16. 10. 16.]\n",
      "bras=1, recompense(int10.182250460619716), moyenne=[10.  9. 16. 10. 16.]\n",
      "bras=1, recompense(int8.477159511183265), moyenne=[10.  9. 16. 10. 16.]\n",
      "bras=1, recompense(int8.836333819119952), moyenne=[10.  9. 16. 10. 16.]\n",
      "bras=1, recompense(int7.833573061423482), moyenne=[10.  9. 16. 10. 16.]\n",
      "bras=1, recompense(int9.477408712447858), moyenne=[10.  9. 16. 10. 16.]\n",
      "bras=1, recompense(int9.616045837210873), moyenne=[10.  9. 16. 10. 16.]\n",
      "bras=1, recompense(int10.326224109561968), moyenne=[10.  9. 16. 10. 16.]\n",
      "bras=1, recompense(int10.301528022043103), moyenne=[10.  9. 16. 10. 16.]\n",
      "bras=1, recompense(int7.176927048038472), moyenne=[10.  9. 16. 10. 16.]\n",
      "bras=1, recompense(int9.884822166700909), moyenne=[10.  9. 16. 10. 16.]\n",
      "bras=1, recompense(int8.843638390049746), moyenne=[10.  9. 16. 10. 16.]\n",
      "bras=1, recompense(int11.517176731440756), moyenne=[10.  9. 16. 10. 16.]\n",
      "bras=1, recompense(int9.274548088509889), moyenne=[10.  9. 16. 10. 16.]\n",
      "bras=1, recompense(int10.860982107838304), moyenne=[10.  9. 16. 10. 16.]\n",
      "bras=1, recompense(int8.555557034290187), moyenne=[10.  9. 16. 10. 16.]\n",
      "bras=1, recompense(int9.17913643660271), moyenne=[10.  9. 16. 10. 16.]\n",
      "bras=1, recompense(int8.180950617239539), moyenne=[10.  9. 16. 10. 16.]\n",
      "bras=1, recompense(int8.862171779338649), moyenne=[10.  9. 16. 10. 16.]\n",
      "bras=1, recompense(int9.979078251208467), moyenne=[10.  9. 16. 10. 16.]\n",
      "bras=1, recompense(int8.067844071572562), moyenne=[10.  9. 16. 10. 16.]\n",
      "bras=1, recompense(int10.86157042487613), moyenne=[10.  9. 16. 10. 16.]\n",
      "bras=1, recompense(int8.718570506393489), moyenne=[10.  9. 16. 10. 16.]\n",
      "bras=1, recompense(int9.097818635376036), moyenne=[10.  9. 16. 10. 16.]\n",
      "bras=1, recompense(int7.245402837894099), moyenne=[10.  9. 16. 10. 16.]\n",
      "bras=1, recompense(int9.59356759077284), moyenne=[10.  9. 16. 10. 16.]\n",
      "bras=1, recompense(int9.654220305591096), moyenne=[10.  9. 16. 10. 16.]\n",
      "bras=1, recompense(int9.212820825917001), moyenne=[10.  9. 16. 10. 16.]\n",
      "bras=1, recompense(int8.159020597205346), moyenne=[10.  9. 16. 10. 16.]\n",
      "bras=1, recompense(int8.338526133241665), moyenne=[10.  9. 16. 10. 16.]\n",
      "bras=1, recompense(int8.649337671513019), moyenne=[10.  9. 16. 10. 16.]\n",
      "bras=1, recompense(int10.24827979953254), moyenne=[10.  9. 16. 10. 16.]\n",
      "bras=1, recompense(int9.383921577756674), moyenne=[10.  9. 16. 10. 16.]\n",
      "bras=1, recompense(int8.58601563805817), moyenne=[10.  9. 16. 10. 16.]\n",
      "bras=1, recompense(int8.372471262361149), moyenne=[10.  9. 16. 10. 16.]\n",
      "bras=1, recompense(int5.380929288658652), moyenne=[10.  9. 16. 10. 16.]\n"
     ]
    }
   ],
   "source": [
    "np.random.seed(2023)\n",
    "num_action = nombre_tirage\n",
    "nombre_tirage=100\n",
    "\n",
    "#Q=  [100] * num_action\n",
    "#N= [0]* num_action\n",
    "\n",
    "Q = np.full((K), 10)\n",
    "N = np.zeros((K))\n",
    "\n",
    "result = []\n",
    "for i in range(nombre_tirage):\n",
    "    action= greedyPolicy(K, Q/(N+1))\n",
    "    reward= tirage(action)\n",
    "    result.append(reward)\n",
    "    Q[action] += reward\n",
    "    N[action] +=1\n",
    "    print(f\"bras={action}, recompense(int{reward}), moyenne={np.round(Q/N+1)}\")\n",
    "   \n"
   ]
  },
  {
   "cell_type": "code",
   "execution_count": 231,
   "id": "62ea560c",
   "metadata": {},
   "outputs": [],
   "source": [
    "# stocker le résultat dans un tableau avec cumul\n",
    "result_greedy_10 = np.cumsum(result)"
   ]
  },
  {
   "cell_type": "code",
   "execution_count": 232,
   "id": "481279c0",
   "metadata": {},
   "outputs": [],
   "source": [
    "# comparer les courbes round robin et greedy optimiste\n",
    "plt.figure()\n",
    "plt.plot(result_greedy_10, label='Greedy optimistic')\n",
    "plt.legend()\n",
    "plt.show()"
   ]
  },
  {
   "cell_type": "markdown",
   "id": "677d2d1a-8efc-4b47-a101-fb48044274e1",
   "metadata": {},
   "source": [
    "***\n",
    "## e-Greedy\n",
    "\n",
    "e-Greedy (epsilon-glouton) choisit l'action réputée la plus payante selon une probabilité 1-epsilon ou aléatoire selon une probabilité epsilon.\n",
    "\n",
    "Il serait intéressant de jouer avec les deux paramètres :<br>\n",
    "__epsilon__<br>\n",
    "__la valeur initiale__<br>\n",
    "\n",
    "Pour la simulation considerez une valeur initiale à zero et ne testez que les variations d'epsilon\n",
    "\n",
    "A noter que dès 1000 tirage, egreedy a trouver 100% des bras par ordre de rendement"
   ]
  },
  {
   "cell_type": "code",
   "execution_count": 150,
   "id": "de8da11d",
   "metadata": {
    "tags": []
   },
   "outputs": [],
   "source": [
    "def egreedyPolicy(num_action,epsilon,mean_reward_per_arm):\n",
    "\n",
    "    # votre code\n",
    "    # vous allez tirer un nombre aléatoire (uniforme)si celui est < epsilon, vous allez choisir une action au hasard, sinon \n",
    "    # vous choisissez la meilleur action connu.\n",
    "    \n",
    "    # Generate a random number to decide between exploration or exploitation\n",
    "    if np.random.uniform(0, 1) < epsilon:\n",
    "        # Exploration: choose a random action\n",
    "        #print (' random < epsilon')\n",
    "        action = np.random.choice(num_action)\n",
    "    else:\n",
    "        # Exploitation: choose the greedy action (the action with the highest mean reward)\n",
    "        #print (' random >= epsilon')\n",
    "        action = np.argmax(mean_reward_per_arm)\n",
    "    \n",
    "    #print(f\"action {action}\")\n",
    "    return(action)"
   ]
  },
  {
   "cell_type": "code",
   "execution_count": 41,
   "id": "4087edfe",
   "metadata": {},
   "outputs": [
    {
     "name": "stdout",
     "output_type": "stream",
     "text": [
      " random >= epsilon\n",
      "action 1\n"
     ]
    },
    {
     "data": {
      "text/plain": [
       "1"
      ]
     },
     "execution_count": 41,
     "metadata": {},
     "output_type": "execute_result"
    }
   ],
   "source": [
    "egreedyPolicy(3,0, [0,1,0])"
   ]
  },
  {
   "cell_type": "code",
   "execution_count": 142,
   "id": "28ade02e-9b4e-43af-aba9-d78ee6d520f1",
   "metadata": {},
   "outputs": [
    {
     "name": "stdout",
     "output_type": "stream",
     "text": [
      " random >= epsilon\n",
      "action 1\n"
     ]
    }
   ],
   "source": [
    "assert egreedyPolicy(3,0,[ 0,1,0]) == 1"
   ]
  },
  {
   "cell_type": "code",
   "execution_count": 233,
   "id": "c4c91d90-78a4-470e-b14e-ff503bff9236",
   "metadata": {
    "tags": []
   },
   "outputs": [
    {
     "name": "stdout",
     "output_type": "stream",
     "text": [
      "bras=1, recompense(int8.47005719297293), moyenne=[10.  9. 16. 10. 16.]\n",
      "bras=1, recompense(int8.928219921468434), moyenne=[10.  9. 16. 10. 16.]\n",
      "bras=1, recompense(int9.013570129432644), moyenne=[10.  9. 16. 10. 16.]\n",
      "bras=1, recompense(int10.766569143400197), moyenne=[10.  9. 16. 10. 16.]\n",
      "bras=3, recompense(int9.058624913644646), moyenne=[10.  9. 16.  6. 16.]\n",
      "bras=1, recompense(int8.649271529921942), moyenne=[10.  8. 16.  6. 16.]\n",
      "bras=1, recompense(int10.344766235657334), moyenne=[10.  8. 16.  6. 16.]\n",
      "bras=1, recompense(int8.945856381695513), moyenne=[10.  8. 16.  6. 16.]\n",
      "bras=4, recompense(int8.895237717727776), moyenne=[10.  8. 16.  6.  6.]\n",
      "bras=4, recompense(int3.8821851928425968), moyenne=[10.  8. 16.  6.  4.]\n",
      "bras=4, recompense(int6.833050965344512), moyenne=[10.  8. 16.  6.  3.]\n",
      "bras=1, recompense(int10.366675895032506), moyenne=[10.  8. 16.  6.  3.]\n",
      "bras=1, recompense(int7.587054027669808), moyenne=[10.  8. 16.  6.  3.]\n",
      "bras=4, recompense(int3.5011482820850737), moyenne=[10.  8. 16.  6.  2.]\n",
      "bras=1, recompense(int10.584804468666107), moyenne=[10.  8. 16.  6.  2.]\n",
      "bras=1, recompense(int8.089891950698174), moyenne=[10.  8. 16.  6.  2.]\n",
      "bras=1, recompense(int10.385954875803392), moyenne=[10.  7. 16.  6.  2.]\n",
      "bras=1, recompense(int7.801028442210704), moyenne=[10.  7. 16.  6.  2.]\n",
      "bras=1, recompense(int10.001524638790858), moyenne=[10.  7. 16.  6.  2.]\n",
      "bras=1, recompense(int8.88347801217766), moyenne=[10.  7. 16.  6.  2.]\n",
      "bras=1, recompense(int10.406653374029377), moyenne=[10.  7. 16.  6.  2.]\n",
      "bras=4, recompense(int11.653777052749362), moyenne=[10.  7. 16.  6.  2.]\n",
      "bras=1, recompense(int8.648972420420018), moyenne=[10.  7. 16.  6.  2.]\n",
      "bras=4, recompense(int4.132311866028756), moyenne=[10.  7. 16.  6.  2.]\n",
      "bras=1, recompense(int8.706897931172763), moyenne=[10.  7. 16.  6.  2.]\n",
      "bras=1, recompense(int8.502101450409258), moyenne=[10.  7. 16.  6.  2.]\n",
      "bras=0, recompense(int7.454612022375036), moyenne=[ 7.  7. 16.  6.  2.]\n",
      "bras=1, recompense(int9.002425084167331), moyenne=[ 7.  7. 16.  6.  2.]\n",
      "bras=4, recompense(int4.9190431490805695), moyenne=[ 7.  7. 16.  6.  2.]\n",
      "bras=1, recompense(int8.836333819119952), moyenne=[ 7.  6. 16.  6.  2.]\n",
      "bras=2, recompense(int6.3988739373627865), moyenne=[7. 6. 6. 6. 2.]\n",
      "bras=4, recompense(int9.536973800844551), moyenne=[7. 6. 6. 6. 1.]\n",
      "bras=1, recompense(int8.99064409306469), moyenne=[7. 6. 6. 6. 1.]\n",
      "bras=2, recompense(int4.479018234651298), moyenne=[7. 6. 4. 6. 1.]\n",
      "bras=1, recompense(int8.862171779338649), moyenne=[7. 6. 4. 6. 1.]\n",
      "bras=1, recompense(int9.979078251208467), moyenne=[7. 6. 4. 6. 1.]\n",
      "bras=3, recompense(int10.372781210596255), moyenne=[7. 6. 4. 4. 1.]\n",
      "bras=3, recompense(int4.1229325779067505), moyenne=[7. 6. 4. 3. 1.]\n",
      "bras=1, recompense(int9.472091293201583), moyenne=[7. 6. 4. 3. 1.]\n",
      "bras=3, recompense(int6.661614347164248), moyenne=[7. 6. 4. 3. 1.]\n",
      "bras=4, recompense(int5.437120328103444), moyenne=[7. 6. 4. 3. 1.]\n",
      "bras=1, recompense(int9.624238810196706), moyenne=[7. 6. 4. 3. 1.]\n",
      "bras=2, recompense(int6.102271106263782), moyenne=[7. 6. 3. 3. 1.]\n",
      "bras=4, recompense(int5.761710205213696), moyenne=[7. 6. 3. 3. 1.]\n",
      "bras=1, recompense(int8.313404580869602), moyenne=[7. 6. 3. 3. 1.]\n",
      "bras=1, recompense(int9.302682581827005), moyenne=[7. 6. 3. 3. 1.]\n",
      "bras=2, recompense(int5.27225895560021), moyenne=[7. 6. 2. 3. 1.]\n",
      "bras=3, recompense(int4.043229044667026), moyenne=[7. 6. 2. 2. 1.]\n",
      "bras=2, recompense(int7.075360051193963), moyenne=[7. 6. 2. 2. 1.]\n",
      "bras=2, recompense(int8.298568685216297), moyenne=[7. 6. 2. 2. 1.]\n",
      "bras=1, recompense(int10.06574587490032), moyenne=[7. 6. 2. 2. 1.]\n",
      "bras=4, recompense(int3.595609620468262), moyenne=[7. 6. 2. 2. 1.]\n",
      "bras=0, recompense(int7.073272292387462), moyenne=[6. 6. 2. 2. 1.]\n",
      "bras=0, recompense(int8.460498787116776), moyenne=[5. 6. 2. 2. 1.]\n",
      "bras=1, recompense(int8.016947054036303), moyenne=[5. 6. 2. 2. 1.]\n",
      "bras=1, recompense(int8.110436926763853), moyenne=[5. 6. 2. 2. 1.]\n",
      "bras=1, recompense(int8.814817870951783), moyenne=[5. 5. 2. 2. 1.]\n",
      "bras=1, recompense(int7.113130355847664), moyenne=[5. 5. 2. 2. 1.]\n",
      "bras=1, recompense(int9.47395071194681), moyenne=[5. 5. 2. 2. 1.]\n",
      "bras=4, recompense(int6.499302898270924), moyenne=[5. 5. 2. 2. 1.]\n",
      "bras=1, recompense(int9.988957417558018), moyenne=[5. 5. 2. 2. 1.]\n",
      "bras=1, recompense(int9.09628046210214), moyenne=[5. 5. 2. 2. 1.]\n",
      "bras=3, recompense(int5.610347391070785), moyenne=[5. 5. 2. 2. 1.]\n",
      "bras=2, recompense(int8.468490563621952), moyenne=[5. 5. 2. 2. 1.]\n",
      "bras=1, recompense(int9.84393719721559), moyenne=[5. 5. 2. 2. 1.]\n",
      "bras=1, recompense(int9.498573650377452), moyenne=[5. 5. 2. 2. 1.]\n",
      "bras=1, recompense(int5.599727629426772), moyenne=[5. 5. 2. 2. 1.]\n",
      "bras=3, recompense(int5.885179717596055), moyenne=[5. 5. 2. 2. 1.]\n",
      "bras=1, recompense(int8.863138691837895), moyenne=[5. 5. 2. 2. 1.]\n",
      "bras=2, recompense(int9.101282245066141), moyenne=[5. 5. 2. 2. 1.]\n",
      "bras=4, recompense(int2.4690664720614945), moyenne=[5. 5. 2. 2. 1.]\n",
      "bras=1, recompense(int7.363059992920428), moyenne=[5. 5. 2. 2. 1.]\n",
      "bras=1, recompense(int8.106603126452693), moyenne=[5. 5. 2. 2. 1.]\n",
      "bras=1, recompense(int10.782872397118805), moyenne=[5. 5. 2. 2. 1.]\n",
      "bras=1, recompense(int8.502493333503368), moyenne=[5. 5. 2. 2. 1.]\n",
      "bras=1, recompense(int8.209276363738677), moyenne=[5. 5. 2. 2. 1.]\n",
      "bras=4, recompense(int2.3056957731710157), moyenne=[5. 5. 2. 2. 1.]\n",
      "bras=1, recompense(int8.21924903523978), moyenne=[5. 5. 2. 2. 1.]\n",
      "bras=1, recompense(int9.155020399360946), moyenne=[5. 5. 2. 2. 1.]\n",
      "bras=1, recompense(int8.374636429180349), moyenne=[5. 4. 2. 2. 1.]\n",
      "bras=1, recompense(int8.454277677296622), moyenne=[5. 4. 2. 2. 1.]\n",
      "bras=0, recompense(int5.207770418956247), moyenne=[4. 4. 2. 2. 1.]\n",
      "bras=3, recompense(int4.9557335890392125), moyenne=[4. 4. 2. 2. 1.]\n",
      "bras=1, recompense(int9.00511324477211), moyenne=[4. 4. 2. 2. 1.]\n",
      "bras=0, recompense(int7.958919725881118), moyenne=[4. 4. 2. 2. 1.]\n",
      "bras=1, recompense(int6.857847276724115), moyenne=[4. 4. 2. 2. 1.]\n",
      "bras=2, recompense(int7.356393984858485), moyenne=[4. 4. 2. 2. 1.]\n",
      "bras=2, recompense(int10.599384118718778), moyenne=[4. 4. 2. 2. 1.]\n",
      "bras=1, recompense(int7.135653374953829), moyenne=[4. 4. 2. 2. 1.]\n",
      "bras=3, recompense(int8.347365692173256), moyenne=[4. 4. 2. 2. 1.]\n",
      "bras=1, recompense(int8.194611566119924), moyenne=[4. 4. 2. 2. 1.]\n",
      "bras=1, recompense(int9.331809275935743), moyenne=[4. 4. 2. 2. 1.]\n",
      "bras=1, recompense(int8.463402955591706), moyenne=[4. 4. 2. 2. 1.]\n",
      "bras=1, recompense(int9.298819736115803), moyenne=[4. 4. 2. 2. 1.]\n",
      "bras=0, recompense(int9.140393235309231), moyenne=[3. 4. 2. 2. 1.]\n",
      "bras=1, recompense(int8.716377414491543), moyenne=[3. 4. 2. 2. 1.]\n",
      "bras=3, recompense(int8.559690445613079), moyenne=[3. 4. 2. 2. 1.]\n",
      "bras=0, recompense(int3.990438780761368), moyenne=[3. 4. 2. 2. 1.]\n",
      "bras=1, recompense(int9.252855659481455), moyenne=[3. 4. 2. 2. 1.]\n",
      "bras=1, recompense(int8.954584235122569), moyenne=[3. 4. 2. 2. 1.]\n"
     ]
    }
   ],
   "source": [
    "np.random.seed(2023)\n",
    "nombre_tirage=100\n",
    "epsilon=0.50\n",
    "\n",
    "result=[]\n",
    "\n",
    "for i in range(nombre_tirage):\n",
    "    action= egreedyPolicy(K, epsilon, Q)\n",
    "    reward =  tirage(action)\n",
    "    result.append(reward)\n",
    "    \n",
    "    # Update N (number of pulls for this action)\n",
    "    N[action] += 1\n",
    "    \n",
    "    # Update Q (mean reward estimate for the chosen action)\n",
    "    Q[action] = Q[action] + (1 / N[action]) * (reward - Q[action])\n",
    "    \n",
    "    print(f\"bras={action}, recompense(int{reward}), moyenne={np.round(Q/N+1)}\")\n",
    "\n"
   ]
  },
  {
   "cell_type": "code",
   "execution_count": 234,
   "id": "8cf33e3d",
   "metadata": {},
   "outputs": [],
   "source": [
    "# stocker le résultat dans un tableau avec cumul\n",
    "result_epsilongreedy_ = np.cumsum(result)"
   ]
  },
  {
   "cell_type": "code",
   "execution_count": 235,
   "id": "110283a0",
   "metadata": {},
   "outputs": [
    {
     "ename": "NameError",
     "evalue": "name 'result_round_robin' is not defined",
     "output_type": "error",
     "traceback": [
      "\u001b[0;31m---------------------------------------------------------------------------\u001b[0m\n\u001b[0;31mNameError\u001b[0m                                 Traceback (most recent call last)",
      "File \u001b[0;34m/usr/local/lib/python3.8/dist-packages/IPython/core/interactiveshell.py\u001b[0m, in \u001b[0;32mrun_code\u001b[0m:\nLine \u001b[0;34m3441\u001b[0m:  exec(code_obj, \u001b[36mself\u001b[39;49;00m.user_global_ns, \u001b[36mself\u001b[39;49;00m.user_ns)\n",
      "In  \u001b[0;34m[80]\u001b[0m:\nLine \u001b[0;34m4\u001b[0m:     plt.plot(result_round_robin, label=\u001b[33m'\u001b[39;49;00m\u001b[33mGreedy optimistic\u001b[39;49;00m\u001b[33m'\u001b[39;49;00m)\n",
      "\u001b[0;31mNameError\u001b[0m: name 'result_round_robin' is not defined\n\u001b[0;31m---------------------------------------------------------------------------\u001b[0m"
     ]
    }
   ],
   "source": [
    "# stocker le résultat dans un tableau avec cumul\n",
    "# comparer les courbes round robin et greedy optimiste\n",
    "plt.figure()\n",
    "plt.plot(result_round_robin, label='Greedy optimistic')\n",
    "plt.plot(result_greedy_10, label='Greedy optimistic')\n",
    "plt.legend()\n",
    "plt.show()"
   ]
  },
  {
   "cell_type": "code",
   "execution_count": null,
   "id": "c6f9205c",
   "metadata": {},
   "outputs": [],
   "source": [
    "# comparer les courbes"
   ]
  },
  {
   "cell_type": "markdown",
   "id": "4ad17b8c-4d74-4440-b0a6-2bc4209b8c8f",
   "metadata": {},
   "source": [
    "---\n",
    "# Espilon greedy decay¶\n",
    "\n",
    "Nous avons 3 paramètres :\n",
    "Nstep : vitesse de décroissance d'epsilon<br>\n",
    "Epsilon max : début de la simulation : hasard fort<br>\n",
    "Epsilon min : fin de simulation<br>\n",
    "\n",
    "Excercice\n",
    "\n",
    "Compléter le code.\n",
    "\n",
    "Comparer l'efficacité notamment avec epsilon fixe"
   ]
  },
  {
   "cell_type": "code",
   "execution_count": 158,
   "id": "56f8a8d4-4468-4445-b7c5-ebcfdfa69df6",
   "metadata": {},
   "outputs": [],
   "source": [
    "import numpy as np\n",
    "\n",
    "np.random.seed(2023)\n",
    "nombre_tirage = 100  # Total number of iterations\n",
    "K = 10  # Number of arms\n",
    "epsilonMax = 0.90  # Starting epsilon (high exploration)\n",
    "epsilonMin = 0.05  # Minimum epsilon (low exploration)\n",
    "NbPas = 80        # Number of steps for epsilon decay\n",
    "\n",
    "result = []\n",
    "eps = []  # To store epsilon values over time\n",
    "Q = np.zeros(K)  # Mean reward estimates for each arm (initialize to 0)\n",
    "N = np.zeros(K)  # Number of times each arm is selected (initialize to 0)\n",
    "\n",
    "epsilon = epsilonMax  # Initialize epsilon to maximum value\n",
    "\n",
    "for i in range(nombre_tirage):\n",
    "    action= egreedyPolicy(K, epsilon, Q)\n",
    "    \n",
    "    # Simulate reward for the chosen action (you can modify this logic as needed)\n",
    "    reward = np.random.randn() + (action + 1)  # Simulated reward\n",
    "    \n",
    "    # Update the total reward for the chosen action\n",
    "    result.append(reward)\n",
    "    \n",
    "    # Update Q (mean reward estimate for the chosen action) using incremental formula\n",
    "    N[action] += 1\n",
    "    Q[action] = Q[action] + (1 / N[action]) * (reward - Q[action])\n",
    "    \n",
    "    # Adjust epsilon with linear decay\n",
    "    epsilon = max(epsilonMin, epsilonMax - (i / NbPas) * (epsilonMax - epsilonMin))\n",
    "    eps.append(epsilon)\n",
    "\n",
    "# At the end of the loop:\n",
    "# - 'result' contains the rewards collected over time\n",
    "# - 'eps' contains the epsilon values over time (showing the decay)\n",
    "# - 'Q' contains the final reward estimates for each arm\n"
   ]
  },
  {
   "cell_type": "code",
   "execution_count": 161,
   "id": "c96d35dc",
   "metadata": {},
   "outputs": [],
   "source": [
    "result_epsilongreedy_decay = np.cumsum(result)"
   ]
  },
  {
   "cell_type": "code",
   "execution_count": null,
   "id": "8dd914ff",
   "metadata": {},
   "outputs": [],
   "source": [
    "# stocker le résultat dans un tableau avec cumul"
   ]
  },
  {
   "cell_type": "code",
   "execution_count": null,
   "id": "3672a5dd",
   "metadata": {},
   "outputs": [],
   "source": [
    "# comparer les courbes"
   ]
  },
  {
   "cell_type": "code",
   "execution_count": null,
   "id": "cdfd340e-2e9d-4e80-82cc-5643524eae15",
   "metadata": {},
   "outputs": [],
   "source": []
  },
  {
   "cell_type": "markdown",
   "id": "b5ca5ef9-ae84-49c1-9d5e-cd041eb96a9a",
   "metadata": {},
   "source": [
    "---\n",
    "# LinUCB"
   ]
  },
  {
   "attachments": {
    "245ff33c-2e56-4a2f-892c-bb24f24aeb34.png": {
     "image/png": "[encoded data removed]"
    }
   },
   "cell_type": "markdown",
   "id": "a1b9b652-8233-4818-b088-16d62158aa4d",
   "metadata": {},
   "source": [
    "![image.png](attachment:245ff33c-2e56-4a2f-892c-bb24f24aeb34.png)"
   ]
  },
  {
   "cell_type": "code",
   "execution_count": 222,
   "id": "72edccb2-58c7-4f8b-b81c-1fd2014bfb9d",
   "metadata": {},
   "outputs": [],
   "source": [
    "import numpy as np\n",
    "\n",
    "def linUCBPolicy(mean_reward_arm, arm_usage, c, num_tirage):\n",
    "    # Number of arms\n",
    "    num_arms = len(mean_reward_arm)\n",
    "    \n",
    "    # Initialize an array to store UCB values for each arm\n",
    "    ucb_values = np.zeros(num_arms)\n",
    "    \n",
    "    # Compute the UCB for each arm\n",
    "    for a in range(num_arms):\n",
    "        # mean_reward_arm[a] is the estimated mean reward for arm 'a'\n",
    "        # arm_usage[a] is the number of times arm 'a' has been used\n",
    "        if arm_usage[a] > 0:\n",
    "            print (f'arm {a} has already been used')\n",
    "            exploration_term = np.sqrt((np.log(num_tirage+1)) / (1 + arm_usage[a]))\n",
    "        else:\n",
    "            # If the arm hasn't been used, set a very high UCB to encourage exploration\n",
    "            print(f'arm {a} has not yet been used')\n",
    "            exploration_term = float('inf')\n",
    "        \n",
    "        # Calculate the UCB value\n",
    "        ucb_values[a] = mean_reward_arm[a] + c * exploration_term        \n",
    "    \n",
    "    # Select the arm with the highest UCB value\n",
    "    action = np.argmax(ucb_values)\n",
    "    \n",
    "    print(f'ucb_values: {ucb_values}')\n",
    "    \n",
    "    return action\n"
   ]
  },
  {
   "cell_type": "code",
   "execution_count": 223,
   "id": "d2f51211",
   "metadata": {},
   "outputs": [
    {
     "name": "stdout",
     "output_type": "stream",
     "text": [
      "arm 0 has already been used\n",
      "arm 1 has already been used\n",
      "arm 2 has already been used\n",
      "ucb_values: [1.71233448 1.72609388 1.80739308]\n",
      "Chosen arm: 2\n"
     ]
    }
   ],
   "source": [
    "import numpy as np\n",
    "\n",
    "# Define the current state of the bandit problem\n",
    "mean_reward_arm = np.array([1.0, 1.2, 0.8])  # Estimated mean rewards for 3 arms\n",
    "arm_usage = np.array([5, 10, 2])  # Number of times each arm has been used\n",
    "c = 1.0  # Exploration parameter\n",
    "num_tirage = 20  # We are at the 20th pull (num_tirage)\n",
    "\n",
    "# Call the linUCBPolicy function\n",
    "chosen_arm = linUCBPolicy(mean_reward_arm, arm_usage, c, num_tirage)\n",
    "\n",
    "# Output the selected arm\n",
    "print(\"Chosen arm:\", chosen_arm)\n"
   ]
  },
  {
   "cell_type": "code",
   "execution_count": 237,
   "id": "127b1d72-53be-441d-9a49-b136c32e4238",
   "metadata": {},
   "outputs": [
    {
     "name": "stdout",
     "output_type": "stream",
     "text": [
      "arm 0 has not yet been used\n",
      "arm 1 has not yet been used\n",
      "arm 2 has not yet been used\n",
      "arm 3 has not yet been used\n",
      "arm 4 has not yet been used\n",
      "ucb_values: [inf inf inf inf inf]\n",
      "i 0,  action: 0, reward: 5.955683169554535\n",
      "arm 0 has already been used\n",
      "arm 1 has not yet been used\n",
      "arm 2 has not yet been used\n",
      "arm 3 has not yet been used\n",
      "arm 4 has not yet been used\n",
      "ucb_values: [6.50316551        inf        inf        inf        inf]\n",
      "i 1,  action: 1, reward: 8.771854571919592\n",
      "arm 0 has already been used\n",
      "arm 1 has already been used\n",
      "arm 2 has not yet been used\n",
      "arm 3 has not yet been used\n",
      "arm 4 has not yet been used\n",
      "ucb_values: [6.50316551 9.31933691        inf        inf        inf]\n",
      "i 2,  action: 2, reward: 8.443796222267645\n",
      "arm 0 has already been used\n",
      "arm 1 has already been used\n",
      "arm 2 has already been used\n",
      "arm 3 has not yet been used\n",
      "arm 4 has not yet been used\n",
      "ucb_values: [6.50316551 9.31933691 8.99127856        inf        inf]\n",
      "i 3,  action: 3, reward: 11.269094007358156\n",
      "arm 0 has already been used\n",
      "arm 1 has already been used\n",
      "arm 2 has already been used\n",
      "arm 3 has already been used\n",
      "arm 4 has not yet been used\n",
      "ucb_values: [ 6.50316551  9.31933691  8.99127856 11.81657634         inf]\n",
      "i 4,  action: 4, reward: 0.7724969303401155\n",
      "arm 0 has already been used\n",
      "arm 1 has already been used\n",
      "arm 2 has already been used\n",
      "arm 3 has already been used\n",
      "arm 4 has already been used\n",
      "ucb_values: [ 6.50316551  9.31933691  8.99127856 11.81657634  1.31997927]\n",
      "i 5,  action: 3, reward: 11.949304172547969\n",
      "arm 0 has already been used\n",
      "arm 1 has already been used\n",
      "arm 2 has already been used\n",
      "arm 3 has already been used\n",
      "arm 4 has already been used\n",
      "ucb_values: [ 6.50316551  9.31933691  8.99127856 12.05621655  1.31997927]\n",
      "i 6,  action: 3, reward: 1.9018528096736755\n",
      "arm 0 has already been used\n",
      "arm 1 has already been used\n",
      "arm 2 has already been used\n",
      "arm 3 has already been used\n",
      "arm 4 has already been used\n",
      "ucb_values: [6.50316551 9.31933691 8.99127856 8.76054547 1.31997927]\n",
      "i 7,  action: 1, reward: 8.839321551788315\n",
      "arm 0 has already been used\n",
      "arm 1 has already been used\n",
      "arm 2 has already been used\n",
      "arm 3 has already been used\n",
      "arm 4 has already been used\n",
      "ucb_values: [6.50316551 9.25260552 8.99127856 8.76054547 1.31997927]\n",
      "i 8,  action: 1, reward: 8.360422671717117\n",
      "arm 0 has already been used\n",
      "arm 1 has already been used\n",
      "arm 2 has already been used\n",
      "arm 3 has already been used\n",
      "arm 4 has already been used\n",
      "ucb_values: [6.50316551 9.04432807 8.99127856 8.76054547 1.31997927]\n",
      "i 9,  action: 1, reward: 7.693540978338284\n"
     ]
    }
   ],
   "source": [
    "np.random.seed(2023)\n",
    "nombre_tirage=10\n",
    "\n",
    "Q = np.zeros((K))  # Estimated total rewards\n",
    "N = np.zeros((K))  # Number of times each arm has been used\n",
    "\n",
    "result=[]\n",
    "c=0.5\n",
    "\n",
    "# Initialize with small random values for better differentiation\n",
    "mean_reward_arm = np.random.rand(K) * 0.1  \n",
    "\n",
    "num_tirage = nombre_tirage\n",
    "arm_usage = np.zeros(K)\n",
    "\n",
    "for i in range(nombre_tirage):\n",
    "    action=  chosen_arm = linUCBPolicy(mean_reward_arm, arm_usage, c, num_tirage)\n",
    "    reward = tirage(action)\n",
    "    print(f'i {i},  action: {action}, reward: {reward}')\n",
    "    Q[action] += reward\n",
    "    N[action] += 1\n",
    "    \n",
    "    arm_usage[action] += 1  # Update usage count for the chosen arm\n",
    "    \n",
    "    # Update the mean reward for the chosen arm\n",
    "    if N[action] > 0:\n",
    "        mean_reward_arm[action] = Q[action] / N[action]\n",
    "        \n",
    "    result.append(reward)   \n",
    "    \n"
   ]
  },
  {
   "cell_type": "code",
   "execution_count": 83,
   "id": "eca5d879",
   "metadata": {},
   "outputs": [
    {
     "data": {
      "text/plain": [
       "array([ 5.95568317, 33.66513977,  8.44379622, 25.12025099,  0.77249693])"
      ]
     },
     "execution_count": 83,
     "metadata": {},
     "output_type": "execute_result"
    }
   ],
   "source": [
    "Q"
   ]
  },
  {
   "cell_type": "code",
   "execution_count": 240,
   "id": "61ba52e3",
   "metadata": {},
   "outputs": [],
   "source": [
    "# stocker le résultat dans un tableau avec cumul\n",
    "\n",
    "result_linUCB = np.cumsum(result)    "
   ]
  },
  {
   "cell_type": "code",
   "execution_count": null,
   "id": "8f7c364c",
   "metadata": {},
   "outputs": [],
   "source": [
    "# comparer les courbes\n"
   ]
  },
  {
   "cell_type": "markdown",
   "id": "400e7099-d8a3-4317-b7f5-2afa8df3f019",
   "metadata": {},
   "source": [
    "---\n",
    "# Méthode du gradient"
   ]
  },
  {
   "cell_type": "markdown",
   "id": "0918da70-d3b3-447c-9140-38c7b9e45b1c",
   "metadata": {},
   "source": [
    "![static/gradient.png](static/gradient.png)"
   ]
  },
  {
   "cell_type": "markdown",
   "id": "121476df-224a-4dee-b56d-f95ea41da837",
   "metadata": {},
   "source": [
    "Soit H notre tableau des préférences"
   ]
  },
  {
   "cell_type": "code",
   "execution_count": null,
   "id": "9b51ecfa-f036-4956-b476-7a6c41a7790a",
   "metadata": {},
   "outputs": [],
   "source": [
    "# Completer les fonctions suivantes.\n",
    "def gradientPolicy(H,K):\n",
    "    # retourne le bras avec la plus forte préférence\n",
    "    # input : H préférence, K nombre de bras\n",
    "    # Conseil : utiliser la fonction (méthode) choice de numpy\n",
    "    action = #\n",
    "    return action\n",
    "\n",
    "def allProb(H):\n",
    "    # calcul les probabilités pour tous les bras\n",
    "    # renvoie un tableau numpy de dimension K contenant les probabilités pour chaque bras\n",
    "    probs=# votre code\n",
    "    return probs\n",
    "\n",
    "\n",
    "def probArm(H,arm):\n",
    "    # calcul la probabilité pour le bras arm passé en paramètre\n",
    "    prob = # votre code\n",
    "    return prob\n",
    "\n",
    "def updatePreference(H,moyenneR,num_tirage,action,reward):\n",
    "    # mise à jour de l'action qui a été jouée\n",
    "    H_old = H\n",
    "\n",
    "    # mise à jour de la préférence du bras choisi\n",
    "    H[action] = H[action] + # ...  votre code \n",
    "\n",
    "    # mise à jour des préférences des autres bras\n",
    "    for j in range(K):\n",
    "        if j != action:\n",
    "                # votre code\n",
    "    moyenneR = (moyenneR * num_tirage + reward ) / (num_tirage + 1) \n",
    "    return H , moyenneR      "
   ]
  },
  {
   "cell_type": "code",
   "execution_count": null,
   "id": "b45e5561-edf1-43ad-9f81-0b391bfd3f53",
   "metadata": {},
   "outputs": [],
   "source": [
    "np.random.seed(2024)\n",
    "\n",
    "# préférence\n",
    "H=np.zeros((K))\n",
    "nombre_tirage=100\n",
    "\n",
    "alpha=0.5\n",
    "\n",
    "# hypothèse initiale de moyenne\n",
    "moyenneR=5\n",
    "\n",
    "for i in range(nombre_tirage):\n",
    "    action= # votre code\n",
    "    reward =# votre code\n",
    "    \n",
    "    # mise à jour des préférences\n",
    "    H,moyenneR =  # votre code\n",
    "    # print(action,allProb(H),H,moyenneR)\n"
   ]
  },
  {
   "cell_type": "code",
   "execution_count": null,
   "id": "3de9c071",
   "metadata": {},
   "outputs": [],
   "source": [
    "# stocker le résultat dans un tableau avec cumul"
   ]
  },
  {
   "cell_type": "code",
   "execution_count": null,
   "id": "45be55f1",
   "metadata": {},
   "outputs": [],
   "source": [
    "# comparer les courbes"
   ]
  }
 ],
 "metadata": {
  "kernelspec": {
   "display_name": "Python 3.8 (XPython)",
   "language": "python",
   "name": "xpython"
  },
  "language_info": {
   "file_extension": ".py",
   "mimetype": "text/x-python",
   "name": "python",
   "version": "3.8.10"
  }
 },
 "nbformat": 4,
 "nbformat_minor": 5
}
